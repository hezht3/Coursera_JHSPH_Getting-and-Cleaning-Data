{
 "cells": [
  {
   "cell_type": "markdown",
   "metadata": {},
   "source": [
    "# Getting and Cleaning Data - Week 1\n",
    "The goal of this course: **Raw data -> Processing script -> tidy data** -> data analysis -> data communication\n",
    "\n",
    "## Raw and Processed Data\n",
    "\n",
    "### Definition of data\n",
    "+ Data are values of **qualitative** or **quantitative** variables, belonging to a set of items.\n",
    "+ **Variables**: A measurement or characteristic of an item.\n",
    "\n",
    "### Raw versus processed data\n",
    "#### Raw data\n",
    "+ The original source of the data\n",
    "+ Often hard to use for data analyses\n",
    "+ Data analysis *includes* processing\n",
    "+ Raw data may only need to be processed once\n",
    "#### Processed data\n",
    "+ Data that is ready for analysis\n",
    "+ Processing can include merging, subsetting, transforming, etc.\n",
    "+ There may be standards for processing\n",
    "+ All steps should be recorded"
   ]
  },
  {
   "cell_type": "code",
   "execution_count": null,
   "metadata": {},
   "outputs": [],
   "source": []
  }
 ],
 "metadata": {
  "kernelspec": {
   "display_name": "R",
   "language": "R",
   "name": "ir"
  },
  "language_info": {
   "codemirror_mode": "r",
   "file_extension": ".r",
   "mimetype": "text/x-r-source",
   "name": "R",
   "pygments_lexer": "r",
   "version": "3.6.1"
  }
 },
 "nbformat": 4,
 "nbformat_minor": 4
}
